{
 "cells": [
  {
   "cell_type": "markdown",
   "id": "9a54cc36",
   "metadata": {},
   "source": [
    "# XAI - 2025 - TP1 - Feature Selection\n",
    "\n",
    "\n",
    "But du TP: \n",
    "\n",
    "- Explorer plus en profondeur la sélection d'attributs (Feature Selection) dans une optique d'interprétabilité. Répondez aux questions et complétez le code directement dans le notebook et n'oubliez pas de changer le nom du fichier avec votre nom et prénom. \n",
    "\n",
    "Rendu du TP: \n",
    "\n",
    "- Durée 2 semaines\n",
    "- Mercredi 12 mars 2025 23h59, Cyberlearn\n",
    "\n",
    "Description: \n",
    "\n",
    "   - Le dataset [MILE](https://www.ncbi.nlm.nih.gov/geo/query/acc.cgi?acc=GSE13159) contient pour ~2000 patients les données d'expression d'environ 54'000 gènes. Afin d'accélérer le début de ce TP, les features ont déjà été écrémées grâce à trois méthodes différentes (chi2, mutual_information et f_score) qui ont chacunes retourné les 5000 meilleures variables (features). \n",
    "\n",
    "Dans ce travail vous devrez: \n",
    "\n",
    "1. Comparer les features sélectionnées par les premières méthodes de filtre et en retourner un subset adéquat.\n",
    "\n",
    "     \n",
    "2. Appliquer méthodes wrapper sur le dataset choisi\n",
    "\n",
    "    a. RFE-RF\n",
    "    \n",
    "    b. RFE-SVM\n",
    "\n",
    "\n",
    "3. Entrainer un modèle et en extraire les features les plus importantes\n",
    "\n",
    "    a. Random Forest (RF)\n",
    "    \n",
    "    b. Support Vector Machine (SVM)\n",
    "    \n",
    "    \n",
    "4. Sélectionner les attributs les plus pertinents\n",
    "\n",
    "    a. Entrainer des modèles (RF et SVM) avec le dataset réduit \n",
    "\n",
    "\n",
    "5. Essayez une méthode d'ensemble pour la feature selection\n",
    "\n",
    "\n",
    "6. Analyse des résultats"
   ]
  },
  {
   "cell_type": "markdown",
   "id": "d71be488",
   "metadata": {},
   "source": [
    "---\n",
    "\n",
    "## 1) Filter methods\n",
    "\n",
    "Trois méthodes de *features selection* ont été préalablement appliquées au dataset original afin de vous éviter un temps de calcul trop long. De ce dataset, qui contient 54'000 attributs (ou features, ou variables), chaque méthode en a retenu 5000 qui sont présents dans les trois fichiers csv joints et qui sont lus ci-dessous. \n",
    "\n",
    "- Explorez rapidement les données\n",
    "- Exécutez et comprenez le code ci-dessous et répondez aux questions."
   ]
  },
  {
   "cell_type": "code",
   "execution_count": 2,
   "id": "1d7e1b62",
   "metadata": {},
   "outputs": [],
   "source": [
    "# Si nécessaire installez les packages suivants:\n",
    "\n",
    "#!conda install scikit-learn\n",
    "#!pip install matplotlib_venn"
   ]
  },
  {
   "cell_type": "code",
   "execution_count": 3,
   "id": "cde1d8ca",
   "metadata": {},
   "outputs": [],
   "source": [
    "import pandas as pd\n",
    "import numpy as np\n",
    "import seaborn as sns\n",
    "\n",
    "from sklearn.svm import SVC\n",
    "from sklearn.linear_model import LogisticRegression\n",
    "from sklearn.neighbors import KNeighborsClassifier\n",
    "from sklearn.tree import DecisionTreeClassifier\n",
    "from sklearn.metrics import accuracy_score, confusion_matrix\n"
   ]
  },
  {
   "cell_type": "code",
   "execution_count": 4,
   "id": "1b03554d",
   "metadata": {
    "scrolled": true
   },
   "outputs": [],
   "source": [
    "# Load the three datasets with each 5000 variables previously selected with the \n",
    "# sklearn.SelectKBest method with the following scoring functions (filters)\n",
    "\n",
    "# - mutual_information_score\n",
    "# - chi2\n",
    "# - f_classifier\n",
    "\n",
    "# Note: leukemia_class will be considered a feature and replaced at the end !\n",
    "\n",
    "features_df_mutual_5000 = pd.read_csv(\"./data/features_df_mutual_5000.csv\", index_col='ID_REF')\n",
    "features_df_chi2_5000 = pd.read_csv(\"./data/features_df_chi2_5000.csv\", index_col='ID_REF')\n",
    "features_df_fc_5000 = pd.read_csv(\"./data/features_df_fc_5000.csv\", index_col='ID_REF')\n",
    "\n",
    "\n"
   ]
  },
  {
   "cell_type": "code",
   "execution_count": 22,
   "id": "13a50566",
   "metadata": {},
   "outputs": [
    {
     "name": "stdout",
     "output_type": "stream",
     "text": [
      "leukemia_class\n",
      "CLL                                                448\n",
      "AML with normal karyotype + other abnormalities    351\n",
      "c-ALL/Pre-B-ALL without t(9;22)                    237\n",
      "MDS                                                206\n",
      "T-ALL                                              174\n",
      "c-ALL/Pre-B-ALL with t(9;22)                       122\n",
      "CML                                                 76\n",
      "Non-leukemia and healthy bone marrow                74\n",
      "Pro-B-ALL with t(11q23)/MLL                         70\n",
      "ALL with t(12;21)                                   58\n",
      "AML complex aberrant karyotype                      48\n",
      "ALL with hyperdiploid karyotype                     40\n",
      "AML with t(8;21)                                    40\n",
      "AML with t(11q23)/MLL                               38\n",
      "AML with t(15;17)                                   37\n",
      "ALL with t(1;19)                                    36\n",
      "AML with inv(16)/t(16;16)                           28\n",
      "mature B-ALL with t(8;14)                           13\n",
      "Name: count, dtype: int64\n",
      "           1007_s_at  1552256_a_at  1552280_at  1552296_at  1552348_at  \\\n",
      "ID_REF                                                                   \n",
      "GSM329407   0.361346      0.574043    0.403437    0.248421    0.314686   \n",
      "GSM329408   0.396426      0.491358    0.246029    0.054328    0.178905   \n",
      "GSM329409   0.419317      0.538100    0.212816    0.113116    0.309071   \n",
      "GSM329410   0.424651      0.532619    0.130555    0.082809    0.077472   \n",
      "GSM329411   0.287776      0.407092    0.282652    0.047093    0.335911   \n",
      "\n",
      "           1552386_at  1552388_at  1552398_a_at  1552401_a_at  1552422_at  \\\n",
      "ID_REF                                                                      \n",
      "GSM329407    0.459216    0.104804      0.581724      0.221830    0.095132   \n",
      "GSM329408    0.511325    0.152413      0.135769      0.213779    0.286709   \n",
      "GSM329409    0.296136    0.151793      0.398421      0.222895    0.036946   \n",
      "GSM329410    0.349910    0.070955      0.370025      0.293621    0.128189   \n",
      "GSM329411    0.298619    0.304593      0.536976      0.259037    0.052542   \n",
      "\n",
      "           ...  50221_at  54037_at  56748_at  57588_at  58780_s_at  59631_at  \\\n",
      "ID_REF     ...                                                                 \n",
      "GSM329407  ...  0.620812  0.438114  0.184329  0.134256    0.350074  0.213531   \n",
      "GSM329408  ...  0.473104  0.461370  0.115439  0.083487    0.193412  0.067892   \n",
      "GSM329409  ...  0.529376  0.514960  0.175349  0.133954    0.335776  0.016975   \n",
      "GSM329410  ...  0.541970  0.467999  0.343024  0.140632    0.267514  0.008864   \n",
      "GSM329411  ...  0.564680  0.287897  0.194041  0.141353    0.467696  0.213617   \n",
      "\n",
      "           59697_at  65517_at  65718_at             leukemia_class  \n",
      "ID_REF                                                              \n",
      "GSM329407  0.390957  0.148033  0.178705  mature B-ALL with t(8;14)  \n",
      "GSM329408  0.278969  0.067875  0.328917  mature B-ALL with t(8;14)  \n",
      "GSM329409  0.237801  0.227789  0.195627  mature B-ALL with t(8;14)  \n",
      "GSM329410  0.142101  0.048941  0.307833  mature B-ALL with t(8;14)  \n",
      "GSM329411  0.475415  0.175493  0.135717  mature B-ALL with t(8;14)  \n",
      "\n",
      "[5 rows x 5001 columns]\n",
      "           1007_s_at  1552256_a_at  1552257_a_at  1552275_s_at  1552287_s_at  \\\n",
      "ID_REF                                                                         \n",
      "GSM329407   0.361346      0.574043      0.628138      0.472343      0.516924   \n",
      "GSM329408   0.396426      0.491358      0.613357      0.315839      0.497151   \n",
      "GSM329409   0.419317      0.538100      0.515951      0.484980      0.460500   \n",
      "GSM329410   0.424651      0.532619      0.642591      0.575328      0.500163   \n",
      "GSM329411   0.287776      0.407092      0.612719      0.414715      0.459823   \n",
      "\n",
      "           1552296_at  1552302_at  1552348_at  1552398_a_at  1552401_a_at  \\\n",
      "ID_REF                                                                      \n",
      "GSM329407    0.248421    0.241912    0.314686      0.581724      0.221830   \n",
      "GSM329408    0.054328    0.292557    0.178905      0.135769      0.213779   \n",
      "GSM329409    0.113116    0.225458    0.309071      0.398421      0.222895   \n",
      "GSM329410    0.082809    0.133297    0.077472      0.370025      0.293621   \n",
      "GSM329411    0.047093    0.118265    0.335911      0.536976      0.259037   \n",
      "\n",
      "           ...  58780_s_at  59697_at  60471_at  65086_at  65493_at  \\\n",
      "ID_REF     ...                                                       \n",
      "GSM329407  ...    0.350074  0.390957  0.601400  0.342838  0.353685   \n",
      "GSM329408  ...    0.193412  0.278969  0.283076  0.381482  0.360903   \n",
      "GSM329409  ...    0.335776  0.237801  0.524817  0.375500  0.271483   \n",
      "GSM329410  ...    0.267514  0.142101  0.409149  0.328101  0.358090   \n",
      "GSM329411  ...    0.467696  0.475415  0.702591  0.228620  0.175773   \n",
      "\n",
      "           74694_s_at  AFFX-HUMGAPDH/M33197_3_at  AFFX-HUMGAPDH/M33197_5_at  \\\n",
      "ID_REF                                                                        \n",
      "GSM329407    0.578544                   0.888419                   0.849101   \n",
      "GSM329408    0.512135                   0.887359                   0.860323   \n",
      "GSM329409    0.563810                   0.881381                   0.846586   \n",
      "GSM329410    0.550666                   0.900322                   0.843597   \n",
      "GSM329411    0.441221                   0.889136                   0.770422   \n",
      "\n",
      "           AFFX-HUMGAPDH/M33197_M_at             leukemia_class  \n",
      "ID_REF                                                           \n",
      "GSM329407                   0.853764  mature B-ALL with t(8;14)  \n",
      "GSM329408                   0.857188  mature B-ALL with t(8;14)  \n",
      "GSM329409                   0.848318  mature B-ALL with t(8;14)  \n",
      "GSM329410                   0.862650  mature B-ALL with t(8;14)  \n",
      "GSM329411                   0.824669  mature B-ALL with t(8;14)  \n",
      "\n",
      "[5 rows x 5001 columns]\n"
     ]
    }
   ],
   "source": [
    "# Explorez rapidement les 3 DataFrames pour bien comprendre les données.\n",
    "features_df_mutual_5000.head()\n",
    "print(features_df_mutual_5000['leukemia_class'].value_counts())\n",
    "print(features_df_chi2_5000.head())\n",
    "print(features_df_fc_5000.head())"
   ]
  },
  {
   "cell_type": "code",
   "execution_count": 12,
   "id": "e8f82ad4",
   "metadata": {},
   "outputs": [],
   "source": [
    "# Get the column names (features names / noms d'attributs)\n",
    "cols_mutual = list(features_df_mutual_5000.columns)\n",
    "cols_chi2 = list(features_df_chi2_5000.columns)\n",
    "cols_fc = list(features_df_fc_5000.columns)\n"
   ]
  },
  {
   "cell_type": "markdown",
   "id": "9df0b3e4",
   "metadata": {},
   "source": [
    "### Total features union\n",
    "\n",
    "Si l'on prend la totalité des variables choisies par nos trois méthodes, nous obtenons 7615 variables différentes. "
   ]
  },
  {
   "cell_type": "code",
   "execution_count": 13,
   "id": "987d5a63",
   "metadata": {},
   "outputs": [
    {
     "name": "stdout",
     "output_type": "stream",
     "text": [
      "7614\n"
     ]
    }
   ],
   "source": [
    "# Total features union\n",
    "all_features_union = set(cols_mutual + cols_chi2 + cols_fc)\n",
    "print(len(all_features_union))"
   ]
  },
  {
   "cell_type": "markdown",
   "id": "4f3759f7",
   "metadata": {},
   "source": [
    "### Total features intersection\n",
    "\n",
    "Si l'on choisi de prendre uniquement les variables sélectionnées par nos trois méthodes, nous obtenons 2458 variables. "
   ]
  },
  {
   "cell_type": "code",
   "execution_count": 14,
   "id": "d60daecf",
   "metadata": {},
   "outputs": [
    {
     "name": "stdout",
     "output_type": "stream",
     "text": [
      "2459\n"
     ]
    }
   ],
   "source": [
    "# Total features intersection\n",
    "all_features_intersect = set(cols_mutual).intersection(cols_chi2).intersection(cols_fc)\n",
    "print(len(all_features_intersect))"
   ]
  },
  {
   "cell_type": "markdown",
   "id": "7f5e7b4b",
   "metadata": {},
   "source": [
    "### Total features union of intersections\n",
    "\n",
    "Nous pouvons choisir les variables qui ont été retenues par au moins deux méthodes en prenant l'union des intersections. "
   ]
  },
  {
   "cell_type": "code",
   "execution_count": 15,
   "id": "f7556bc6",
   "metadata": {},
   "outputs": [
    {
     "name": "stdout",
     "output_type": "stream",
     "text": [
      "Intersection between mutual and chi2: 2575\n",
      "Intersection between mutual and fc: 4413\n",
      "Intersection between fc and chi2: 2860\n",
      "Intersection between mutual, fc and chi2: 2459\n",
      "-------------------\n",
      "Union of intersections 4930\n"
     ]
    }
   ],
   "source": [
    "# Total features union of intersections\n",
    "\n",
    "# Intersection between the 5000 columns of mutual_information and the 5000 of chi2\n",
    "features_mutual_n_chi2 = set(cols_mutual).intersection(cols_chi2)\n",
    "l_mutual_chi2 = len(features_mutual_n_chi2)\n",
    "print(f\"Intersection between mutual and chi2: {l_mutual_chi2}\")\n",
    "\n",
    "# Same with mutual_information and f_classifier\n",
    "features_mutual_n_fc = set(cols_mutual).intersection(cols_fc)\n",
    "l_mutual_fc = len(features_mutual_n_fc)\n",
    "print(f\"Intersection between mutual and fc: {l_mutual_fc}\")\n",
    "\n",
    "# Same with f_classifier and chi2\n",
    "features_fc_n_chi2 = set(cols_fc).intersection(cols_chi2)\n",
    "l_fc_chi2 = len(features_fc_n_chi2)\n",
    "print(f\"Intersection between fc and chi2: {l_fc_chi2}\")\n",
    "\n",
    "# Intersection between the three (length)\n",
    "l_fc_chi2_mutual = len(set(cols_fc).intersection(cols_chi2).intersection(cols_mutual))\n",
    "print(f\"Intersection between mutual, fc and chi2: {l_fc_chi2_mutual}\")\n",
    "\n",
    "\n",
    "print(\"-------------------\")\n",
    "\n",
    "# Creating a set removes the duplicates (intersection between the three are present multiple times until now)\n",
    "all_features_union_of_intersect = list(set(list(features_mutual_n_chi2) + \n",
    "                                           list(features_mutual_n_fc) + \n",
    "                                           list(features_fc_n_chi2)))\n",
    "\n",
    "print(f\"Union of intersections {len(all_features_union_of_intersect)}\")"
   ]
  },
  {
   "cell_type": "markdown",
   "id": "b0f020e1",
   "metadata": {},
   "source": [
    "Voici un petit diagramme de Venn pour vous aider à visualiser les features en commun entre les différentes méthodes (calculs fait à la main à partir des intersections)."
   ]
  },
  {
   "cell_type": "code",
   "execution_count": 16,
   "id": "c5eb69d6",
   "metadata": {},
   "outputs": [
    {
     "data": {
      "image/png": "[encoded data removed]",
      "text/plain": [
       "<Figure size 640x480 with 1 Axes>"
      ]
     },
     "metadata": {},
     "output_type": "display_data"
    }
   ],
   "source": [
    "# Import the library\n",
    "import matplotlib.pyplot as plt\n",
    "from matplotlib_venn import venn3\n",
    " \n",
    "v=venn3(subsets = (472, 2024, 116, 186,1954,402,2458), set_labels = ('Mutual information', 'Chi2', 'f classifier'))\n",
    "#v.get_label_by_id('A').set_text('My Favourite group!')\n",
    "plt.show()"
   ]
  },
  {
   "cell_type": "markdown",
   "id": "d1a1651c",
   "metadata": {},
   "source": [
    "#### Questions\n",
    "\n",
    "- Décrivez le dataset MILE et son contenu. D'où vient-il et quel est son but ? Que représentent les données ? Donnez des informations sur les variables indépendantes, sur la variable dépendante, la tâche de machine learning à effectuer etc. \n",
    "  - **Le dataset MILE (Microarray Innovations in LEukemia) contient les expressions de gènes pour 2096 patients dont le génotype a été analysé. Les variables indépendantes sont les expressions de gênes (toutes les colonnes sauf la première et la dernière) et la variable dépendante est la dernière colonne `leukemia_class`, qui indique si le patient est en bonne santé ou si il est atteint de leucémie (18 classes différentes). La tâche de ML à effectuer est de trouver les gênes permettant le mieux de prédire la valeur de `leukemia_class`. Le but n'est pas seulement de prédire la bonne classe mais surtout de trouver quels sont les gênes ayant un impact dessus.**\n",
    "- Donnez une description des trois méthodes utilisées pour le premier filtre\n",
    "  - **Mutual Information : La sélection de caractéristique avec l'information mutuelle fonctionne en calculant la quantité d'information que chaque variable explicative partage avec la variable cible. En d'autres termes, l'information mutuelle permet de quantifier la dépendance entre deux variables.**\n",
    "  - **Chi-squared (Chi2) : Le critère chi-carré fonctionne en comparant le nombre d'occurences des valeurs des variables avec la variable cible pour déterminer si la variable explicative et la variable cible sont plus liées si elles étaient complètement indépendantes. Un chi-carré élevé indique une forte corrélation.**\n",
    "  - **f classifier : Le F-classifier se base sur une analyse de variance des différentes caractéristiques en comparant la variance intra-classe et la variance inter-classe.**\n",
    "- Pourquoi utiliser des méthodes simples commes celles-ci pour une première étape de filtre ?\n",
    "  - **Car cela permet d'élaguer les variables qui ne seront probablement pas importantes, avant d'avoir recours à des méthodes plus complexes et donc plus coûteuse.**\n",
    "- Nous choisissons de garder l'union des intersections des features (création du DF ci-dessous). D'après vous, pourquoi faire ce choix plutôt que de garder la totalité des features sélectionnées par les trois méthodes (union) ou les features en commun entre les trois méthodes (intersection) ?\n",
    "  - **Pour contrer le problème des biais inhérent à l'utilisation de modèle de Feature Selection.**\n",
    "\n",
    "\n"
   ]
  },
  {
   "cell_type": "markdown",
   "id": "08509d1c",
   "metadata": {},
   "source": [
    "------"
   ]
  },
  {
   "cell_type": "markdown",
   "id": "24606a36",
   "metadata": {},
   "source": [
    "On crée notre DataFrame *df_union_intersect* qui va être utilisé pour la suite du TP. "
   ]
  },
  {
   "cell_type": "code",
   "execution_count": 23,
   "id": "c0653ee4",
   "metadata": {},
   "outputs": [
    {
     "name": "stderr",
     "output_type": "stream",
     "text": [
      "C:\\Users\\lcsch\\AppData\\Local\\Temp\\ipykernel_7880\\750371106.py:21: PerformanceWarning: DataFrame is highly fragmented.  This is usually the result of calling `frame.insert` many times, which has poor performance.  Consider joining all columns at once using pd.concat(axis=1) instead. To get a de-fragmented frame, use `newframe = frame.copy()`\n",
      "  df_union_intersect[\"leukemia_class\"] = leukemia_class\n"
     ]
    },
    {
     "data": {
      "text/html": [
       "<div>\n",
       "<style scoped>\n",
       "    .dataframe tbody tr th:only-of-type {\n",
       "        vertical-align: middle;\n",
       "    }\n",
       "\n",
       "    .dataframe tbody tr th {\n",
       "        vertical-align: top;\n",
       "    }\n",
       "\n",
       "    .dataframe thead th {\n",
       "        text-align: right;\n",
       "    }\n",
       "</style>\n",
       "<table border=\"1\" class=\"dataframe\">\n",
       "  <thead>\n",
       "    <tr style=\"text-align: right;\">\n",
       "      <th></th>\n",
       "      <th>200023_s_at</th>\n",
       "      <th>202709_at</th>\n",
       "      <th>201220_x_at</th>\n",
       "      <th>212586_at</th>\n",
       "      <th>212345_s_at</th>\n",
       "      <th>203675_at</th>\n",
       "      <th>209094_at</th>\n",
       "      <th>206631_at</th>\n",
       "      <th>228429_x_at</th>\n",
       "      <th>74694_s_at</th>\n",
       "      <th>...</th>\n",
       "      <th>200984_s_at</th>\n",
       "      <th>235113_at</th>\n",
       "      <th>219574_at</th>\n",
       "      <th>203764_at</th>\n",
       "      <th>212022_s_at</th>\n",
       "      <th>212286_at</th>\n",
       "      <th>213317_at</th>\n",
       "      <th>203509_at</th>\n",
       "      <th>211325_x_at</th>\n",
       "      <th>leukemia_class</th>\n",
       "    </tr>\n",
       "    <tr>\n",
       "      <th>ID_REF</th>\n",
       "      <th></th>\n",
       "      <th></th>\n",
       "      <th></th>\n",
       "      <th></th>\n",
       "      <th></th>\n",
       "      <th></th>\n",
       "      <th></th>\n",
       "      <th></th>\n",
       "      <th></th>\n",
       "      <th></th>\n",
       "      <th></th>\n",
       "      <th></th>\n",
       "      <th></th>\n",
       "      <th></th>\n",
       "      <th></th>\n",
       "      <th></th>\n",
       "      <th></th>\n",
       "      <th></th>\n",
       "      <th></th>\n",
       "      <th></th>\n",
       "      <th></th>\n",
       "    </tr>\n",
       "  </thead>\n",
       "  <tbody>\n",
       "    <tr>\n",
       "      <th>GSM329407</th>\n",
       "      <td>0.840717</td>\n",
       "      <td>0.316924</td>\n",
       "      <td>0.571654</td>\n",
       "      <td>0.610910</td>\n",
       "      <td>0.584222</td>\n",
       "      <td>0.521541</td>\n",
       "      <td>0.067102</td>\n",
       "      <td>0.510558</td>\n",
       "      <td>0.402242</td>\n",
       "      <td>0.578544</td>\n",
       "      <td>...</td>\n",
       "      <td>0.413736</td>\n",
       "      <td>0.569786</td>\n",
       "      <td>0.541829</td>\n",
       "      <td>0.512907</td>\n",
       "      <td>0.482873</td>\n",
       "      <td>0.429581</td>\n",
       "      <td>0.168330</td>\n",
       "      <td>0.617458</td>\n",
       "      <td>0.461615</td>\n",
       "      <td>mature B-ALL with t(8;14)</td>\n",
       "    </tr>\n",
       "    <tr>\n",
       "      <th>GSM329408</th>\n",
       "      <td>0.824816</td>\n",
       "      <td>0.360227</td>\n",
       "      <td>0.443369</td>\n",
       "      <td>0.549195</td>\n",
       "      <td>0.661415</td>\n",
       "      <td>0.768787</td>\n",
       "      <td>0.611290</td>\n",
       "      <td>0.215825</td>\n",
       "      <td>0.449904</td>\n",
       "      <td>0.512135</td>\n",
       "      <td>...</td>\n",
       "      <td>0.562638</td>\n",
       "      <td>0.637616</td>\n",
       "      <td>0.082580</td>\n",
       "      <td>0.684194</td>\n",
       "      <td>0.599685</td>\n",
       "      <td>0.511200</td>\n",
       "      <td>0.000000</td>\n",
       "      <td>0.330567</td>\n",
       "      <td>0.430197</td>\n",
       "      <td>mature B-ALL with t(8;14)</td>\n",
       "    </tr>\n",
       "    <tr>\n",
       "      <th>GSM329409</th>\n",
       "      <td>0.852314</td>\n",
       "      <td>0.277948</td>\n",
       "      <td>0.567025</td>\n",
       "      <td>0.601974</td>\n",
       "      <td>0.590048</td>\n",
       "      <td>0.667812</td>\n",
       "      <td>0.530936</td>\n",
       "      <td>0.482050</td>\n",
       "      <td>0.449065</td>\n",
       "      <td>0.563810</td>\n",
       "      <td>...</td>\n",
       "      <td>0.429850</td>\n",
       "      <td>0.547375</td>\n",
       "      <td>0.270245</td>\n",
       "      <td>0.440356</td>\n",
       "      <td>0.481005</td>\n",
       "      <td>0.474048</td>\n",
       "      <td>0.151828</td>\n",
       "      <td>0.565271</td>\n",
       "      <td>0.515740</td>\n",
       "      <td>mature B-ALL with t(8;14)</td>\n",
       "    </tr>\n",
       "    <tr>\n",
       "      <th>GSM329410</th>\n",
       "      <td>0.839837</td>\n",
       "      <td>0.306484</td>\n",
       "      <td>0.422760</td>\n",
       "      <td>0.507349</td>\n",
       "      <td>0.397860</td>\n",
       "      <td>0.571100</td>\n",
       "      <td>0.115422</td>\n",
       "      <td>0.172259</td>\n",
       "      <td>0.485869</td>\n",
       "      <td>0.550666</td>\n",
       "      <td>...</td>\n",
       "      <td>0.355554</td>\n",
       "      <td>0.655996</td>\n",
       "      <td>0.397056</td>\n",
       "      <td>0.673965</td>\n",
       "      <td>0.685276</td>\n",
       "      <td>0.535220</td>\n",
       "      <td>0.237403</td>\n",
       "      <td>0.675116</td>\n",
       "      <td>0.489012</td>\n",
       "      <td>mature B-ALL with t(8;14)</td>\n",
       "    </tr>\n",
       "    <tr>\n",
       "      <th>GSM329411</th>\n",
       "      <td>0.834914</td>\n",
       "      <td>0.361306</td>\n",
       "      <td>0.658201</td>\n",
       "      <td>0.678752</td>\n",
       "      <td>0.464296</td>\n",
       "      <td>0.718599</td>\n",
       "      <td>0.187717</td>\n",
       "      <td>0.566017</td>\n",
       "      <td>0.313908</td>\n",
       "      <td>0.441221</td>\n",
       "      <td>...</td>\n",
       "      <td>0.539160</td>\n",
       "      <td>0.450257</td>\n",
       "      <td>0.373680</td>\n",
       "      <td>0.571865</td>\n",
       "      <td>0.545378</td>\n",
       "      <td>0.508949</td>\n",
       "      <td>0.134813</td>\n",
       "      <td>0.744932</td>\n",
       "      <td>0.491126</td>\n",
       "      <td>mature B-ALL with t(8;14)</td>\n",
       "    </tr>\n",
       "    <tr>\n",
       "      <th>...</th>\n",
       "      <td>...</td>\n",
       "      <td>...</td>\n",
       "      <td>...</td>\n",
       "      <td>...</td>\n",
       "      <td>...</td>\n",
       "      <td>...</td>\n",
       "      <td>...</td>\n",
       "      <td>...</td>\n",
       "      <td>...</td>\n",
       "      <td>...</td>\n",
       "      <td>...</td>\n",
       "      <td>...</td>\n",
       "      <td>...</td>\n",
       "      <td>...</td>\n",
       "      <td>...</td>\n",
       "      <td>...</td>\n",
       "      <td>...</td>\n",
       "      <td>...</td>\n",
       "      <td>...</td>\n",
       "      <td>...</td>\n",
       "      <td>...</td>\n",
       "    </tr>\n",
       "    <tr>\n",
       "      <th>GSM331728</th>\n",
       "      <td>0.823216</td>\n",
       "      <td>0.289192</td>\n",
       "      <td>0.613998</td>\n",
       "      <td>0.744297</td>\n",
       "      <td>0.562981</td>\n",
       "      <td>0.784204</td>\n",
       "      <td>0.396970</td>\n",
       "      <td>0.614704</td>\n",
       "      <td>0.409372</td>\n",
       "      <td>0.407757</td>\n",
       "      <td>...</td>\n",
       "      <td>0.659374</td>\n",
       "      <td>0.612560</td>\n",
       "      <td>0.399228</td>\n",
       "      <td>0.665948</td>\n",
       "      <td>0.550448</td>\n",
       "      <td>0.515592</td>\n",
       "      <td>0.115926</td>\n",
       "      <td>0.645994</td>\n",
       "      <td>0.456973</td>\n",
       "      <td>Non-leukemia and healthy bone marrow</td>\n",
       "    </tr>\n",
       "    <tr>\n",
       "      <th>GSM331729</th>\n",
       "      <td>0.825700</td>\n",
       "      <td>0.293676</td>\n",
       "      <td>0.611037</td>\n",
       "      <td>0.736115</td>\n",
       "      <td>0.565142</td>\n",
       "      <td>0.793903</td>\n",
       "      <td>0.393177</td>\n",
       "      <td>0.617653</td>\n",
       "      <td>0.337773</td>\n",
       "      <td>0.409654</td>\n",
       "      <td>...</td>\n",
       "      <td>0.662569</td>\n",
       "      <td>0.609086</td>\n",
       "      <td>0.374582</td>\n",
       "      <td>0.671730</td>\n",
       "      <td>0.568532</td>\n",
       "      <td>0.512427</td>\n",
       "      <td>0.173906</td>\n",
       "      <td>0.644341</td>\n",
       "      <td>0.439639</td>\n",
       "      <td>Non-leukemia and healthy bone marrow</td>\n",
       "    </tr>\n",
       "    <tr>\n",
       "      <th>GSM331730</th>\n",
       "      <td>0.827346</td>\n",
       "      <td>0.291749</td>\n",
       "      <td>0.689095</td>\n",
       "      <td>0.723232</td>\n",
       "      <td>0.586805</td>\n",
       "      <td>0.791265</td>\n",
       "      <td>0.328377</td>\n",
       "      <td>0.592266</td>\n",
       "      <td>0.505596</td>\n",
       "      <td>0.393944</td>\n",
       "      <td>...</td>\n",
       "      <td>0.643557</td>\n",
       "      <td>0.628035</td>\n",
       "      <td>0.346233</td>\n",
       "      <td>0.711856</td>\n",
       "      <td>0.653542</td>\n",
       "      <td>0.471711</td>\n",
       "      <td>0.244311</td>\n",
       "      <td>0.759024</td>\n",
       "      <td>0.459251</td>\n",
       "      <td>Non-leukemia and healthy bone marrow</td>\n",
       "    </tr>\n",
       "    <tr>\n",
       "      <th>GSM331731</th>\n",
       "      <td>0.817218</td>\n",
       "      <td>0.341076</td>\n",
       "      <td>0.654528</td>\n",
       "      <td>0.703700</td>\n",
       "      <td>0.560866</td>\n",
       "      <td>0.819266</td>\n",
       "      <td>0.411054</td>\n",
       "      <td>0.636859</td>\n",
       "      <td>0.343796</td>\n",
       "      <td>0.370145</td>\n",
       "      <td>...</td>\n",
       "      <td>0.664982</td>\n",
       "      <td>0.562740</td>\n",
       "      <td>0.347488</td>\n",
       "      <td>0.658564</td>\n",
       "      <td>0.514120</td>\n",
       "      <td>0.516056</td>\n",
       "      <td>0.048410</td>\n",
       "      <td>0.727833</td>\n",
       "      <td>0.527142</td>\n",
       "      <td>Non-leukemia and healthy bone marrow</td>\n",
       "    </tr>\n",
       "    <tr>\n",
       "      <th>GSM331732</th>\n",
       "      <td>0.833768</td>\n",
       "      <td>0.247054</td>\n",
       "      <td>0.647891</td>\n",
       "      <td>0.736380</td>\n",
       "      <td>0.587711</td>\n",
       "      <td>0.801894</td>\n",
       "      <td>0.389958</td>\n",
       "      <td>0.619226</td>\n",
       "      <td>0.341299</td>\n",
       "      <td>0.412910</td>\n",
       "      <td>...</td>\n",
       "      <td>0.657959</td>\n",
       "      <td>0.557161</td>\n",
       "      <td>0.433404</td>\n",
       "      <td>0.612305</td>\n",
       "      <td>0.494327</td>\n",
       "      <td>0.490490</td>\n",
       "      <td>0.197178</td>\n",
       "      <td>0.742135</td>\n",
       "      <td>0.447978</td>\n",
       "      <td>Non-leukemia and healthy bone marrow</td>\n",
       "    </tr>\n",
       "  </tbody>\n",
       "</table>\n",
       "<p>2096 rows × 4930 columns</p>\n",
       "</div>"
      ],
      "text/plain": [
       "           200023_s_at  202709_at  201220_x_at  212586_at  212345_s_at  \\\n",
       "ID_REF                                                                   \n",
       "GSM329407     0.840717   0.316924     0.571654   0.610910     0.584222   \n",
       "GSM329408     0.824816   0.360227     0.443369   0.549195     0.661415   \n",
       "GSM329409     0.852314   0.277948     0.567025   0.601974     0.590048   \n",
       "GSM329410     0.839837   0.306484     0.422760   0.507349     0.397860   \n",
       "GSM329411     0.834914   0.361306     0.658201   0.678752     0.464296   \n",
       "...                ...        ...          ...        ...          ...   \n",
       "GSM331728     0.823216   0.289192     0.613998   0.744297     0.562981   \n",
       "GSM331729     0.825700   0.293676     0.611037   0.736115     0.565142   \n",
       "GSM331730     0.827346   0.291749     0.689095   0.723232     0.586805   \n",
       "GSM331731     0.817218   0.341076     0.654528   0.703700     0.560866   \n",
       "GSM331732     0.833768   0.247054     0.647891   0.736380     0.587711   \n",
       "\n",
       "           203675_at  209094_at  206631_at  228429_x_at  74694_s_at  ...  \\\n",
       "ID_REF                                                               ...   \n",
       "GSM329407   0.521541   0.067102   0.510558     0.402242    0.578544  ...   \n",
       "GSM329408   0.768787   0.611290   0.215825     0.449904    0.512135  ...   \n",
       "GSM329409   0.667812   0.530936   0.482050     0.449065    0.563810  ...   \n",
       "GSM329410   0.571100   0.115422   0.172259     0.485869    0.550666  ...   \n",
       "GSM329411   0.718599   0.187717   0.566017     0.313908    0.441221  ...   \n",
       "...              ...        ...        ...          ...         ...  ...   \n",
       "GSM331728   0.784204   0.396970   0.614704     0.409372    0.407757  ...   \n",
       "GSM331729   0.793903   0.393177   0.617653     0.337773    0.409654  ...   \n",
       "GSM331730   0.791265   0.328377   0.592266     0.505596    0.393944  ...   \n",
       "GSM331731   0.819266   0.411054   0.636859     0.343796    0.370145  ...   \n",
       "GSM331732   0.801894   0.389958   0.619226     0.341299    0.412910  ...   \n",
       "\n",
       "           200984_s_at  235113_at  219574_at  203764_at  212022_s_at  \\\n",
       "ID_REF                                                                 \n",
       "GSM329407     0.413736   0.569786   0.541829   0.512907     0.482873   \n",
       "GSM329408     0.562638   0.637616   0.082580   0.684194     0.599685   \n",
       "GSM329409     0.429850   0.547375   0.270245   0.440356     0.481005   \n",
       "GSM329410     0.355554   0.655996   0.397056   0.673965     0.685276   \n",
       "GSM329411     0.539160   0.450257   0.373680   0.571865     0.545378   \n",
       "...                ...        ...        ...        ...          ...   \n",
       "GSM331728     0.659374   0.612560   0.399228   0.665948     0.550448   \n",
       "GSM331729     0.662569   0.609086   0.374582   0.671730     0.568532   \n",
       "GSM331730     0.643557   0.628035   0.346233   0.711856     0.653542   \n",
       "GSM331731     0.664982   0.562740   0.347488   0.658564     0.514120   \n",
       "GSM331732     0.657959   0.557161   0.433404   0.612305     0.494327   \n",
       "\n",
       "           212286_at  213317_at  203509_at  211325_x_at  \\\n",
       "ID_REF                                                    \n",
       "GSM329407   0.429581   0.168330   0.617458     0.461615   \n",
       "GSM329408   0.511200   0.000000   0.330567     0.430197   \n",
       "GSM329409   0.474048   0.151828   0.565271     0.515740   \n",
       "GSM329410   0.535220   0.237403   0.675116     0.489012   \n",
       "GSM329411   0.508949   0.134813   0.744932     0.491126   \n",
       "...              ...        ...        ...          ...   \n",
       "GSM331728   0.515592   0.115926   0.645994     0.456973   \n",
       "GSM331729   0.512427   0.173906   0.644341     0.439639   \n",
       "GSM331730   0.471711   0.244311   0.759024     0.459251   \n",
       "GSM331731   0.516056   0.048410   0.727833     0.527142   \n",
       "GSM331732   0.490490   0.197178   0.742135     0.447978   \n",
       "\n",
       "                                 leukemia_class  \n",
       "ID_REF                                           \n",
       "GSM329407             mature B-ALL with t(8;14)  \n",
       "GSM329408             mature B-ALL with t(8;14)  \n",
       "GSM329409             mature B-ALL with t(8;14)  \n",
       "GSM329410             mature B-ALL with t(8;14)  \n",
       "GSM329411             mature B-ALL with t(8;14)  \n",
       "...                                         ...  \n",
       "GSM331728  Non-leukemia and healthy bone marrow  \n",
       "GSM331729  Non-leukemia and healthy bone marrow  \n",
       "GSM331730  Non-leukemia and healthy bone marrow  \n",
       "GSM331731  Non-leukemia and healthy bone marrow  \n",
       "GSM331732  Non-leukemia and healthy bone marrow  \n",
       "\n",
       "[2096 rows x 4930 columns]"
      ]
     },
     "execution_count": 23,
     "metadata": {},
     "output_type": "execute_result"
    }
   ],
   "source": [
    "# Define the column lists from each method\n",
    "mutual_columns = features_df_mutual_5000.columns.tolist()\n",
    "chi2_unique = [col for col in features_df_chi2_5000.columns if col not in mutual_columns]\n",
    "fc_unique   = [col for col in features_df_fc_5000.columns if col not in (mutual_columns + chi2_unique)]\n",
    "\n",
    "# Concatenate the selected columns to form the union DataFrame\n",
    "df_union = pd.concat([\n",
    "    features_df_mutual_5000[mutual_columns],\n",
    "    features_df_chi2_5000[chi2_unique],\n",
    "    features_df_fc_5000[fc_unique]\n",
    "], axis=1)\n",
    "\n",
    "# Retain only the features selected by at least two methods (union of intersections)\n",
    "df_union_intersect = df_union.loc[:, all_features_union_of_intersect]\n",
    "\n",
    "# Retain only the features selected by all three methods (intersection)\n",
    "df_intersect = df_union.loc[:, list(all_features_intersect)]\n",
    "\n",
    "# Move 'leukemia_class' to the last column\n",
    "leukemia_class = df_union_intersect.pop(\"leukemia_class\")\n",
    "df_union_intersect[\"leukemia_class\"] = leukemia_class\n",
    "\n",
    "df_union_intersect"
   ]
  },
  {
   "cell_type": "markdown",
   "id": "906e48cb",
   "metadata": {},
   "source": [
    "---"
   ]
  },
  {
   "cell_type": "markdown",
   "id": "c1411063",
   "metadata": {},
   "source": [
    "## 2) Wrapper methods\n",
    "\n",
    "\n",
    "Nous allons maintenant utiliser deux *wrapper methods* afin de réduire notre sélection d'environ 5'000 attributs à environ 500 (ordre de grandeur). Pour cela nous allons utiliser la Recursive Features Elimination (RFE) de scikit-learn avec Random Forest et Support Vector Machine. \n",
    "\n",
    "(*Note: sans Cross Validation (rfecv) car très demandant en ressources*)\n",
    "\n",
    "\n",
    "- Répondez aux questions \n",
    "- RFE-RF: Exécutez le code donné et répondez aux questions\n",
    "- RFE-SVM: Complétez le code demandé et répondez aux questions\n",
    "- Sélectionnez les features que vous garderez pour la prochaine étape"
   ]
  },
  {
   "cell_type": "markdown",
   "id": "46a19235",
   "metadata": {},
   "source": [
    "---\n",
    "\n",
    "#### Questions:\n",
    "\n",
    "- Écrivez une courte description de ce que sont les méthodes \"wrapper\" pour la sélection d'attributs. Comment fonctionne RFE (implémentation de sklearn) \n",
    "- Pourquoi est-il possible de l'utiliser avec Random Forest et Support Vector Machine (SVM) ?\n",
    "\n",
    "\n",
    "\n"
   ]
  },
  {
   "cell_type": "markdown",
   "id": "b3609813",
   "metadata": {},
   "source": [
    "*Réponse: Un wrapper compare les différents ensemble de features en entraînant complètement le modèle pour chacun de ces sous-ensembles et en comparant les performances finales. Le sous-ensemble donnant les meilleurs performances (ou le plus \"rentable\" en fonction du nombre de features gardées) est considéré comme le meilleur.*\n",
    "\n",
    "*La RFE (Recursive Feature Elimination) commence en partant de l'ensemble initial de features et teste récursivement les sous-ensemble avec une feature en moins à chaque fois.*\n",
    "\n",
    "*On peut utiliser les algorithmes Random Forest et SVM car leurs fonctionnement est relativement \"transparent\" et permet de facilement extraire les coefficients associés à chaque feature pour déterminer lesquelles sont les plus importantes pour le modèle.*\n",
    "\n",
    "\n",
    "\n"
   ]
  },
  {
   "cell_type": "markdown",
   "id": "1d2f5a2e",
   "metadata": {},
   "source": [
    "---"
   ]
  },
  {
   "cell_type": "code",
   "execution_count": 24,
   "id": "ffea96a7",
   "metadata": {},
   "outputs": [],
   "source": [
    "# Préparation des données \n",
    "\n",
    "X_uoi, y_uoi = df_union_intersect.drop(columns=\"leukemia_class\"), df_union_intersect[\"leukemia_class\"]\n",
    "\n",
    "X_i, y_i = df_intersect.drop(columns=\"leukemia_class\"), df_intersect[\"leukemia_class\"]"
   ]
  },
  {
   "cell_type": "markdown",
   "id": "799ad0e7",
   "metadata": {},
   "source": [
    "### RFE-RF\n",
    "\n",
    "Exécuter le code donné ci-dessous. Complétez les commentaires (les # sans rien) dans le code afin d'expliquer ce qui est fait puis répondez aux questions.\n",
    "\n",
    "\n",
    "<div class=\"alert alert-block alert-danger\">\n",
    "<b>Attention:</b> Temps d'exécution avec les paramètres actuels: RFE-RF (50 sec) / RFE-SVM (5 minutes avec LinearSVC, 30 secondes avec SVC)\n",
    "</div>\n",
    "\n"
   ]
  },
  {
   "cell_type": "code",
   "execution_count": 25,
   "id": "155fb261",
   "metadata": {},
   "outputs": [
    {
     "name": "stdout",
     "output_type": "stream",
     "text": [
      "135.97019815444946\n"
     ]
    }
   ],
   "source": [
    "from sklearn.feature_selection import RFE\n",
    "from sklearn.ensemble import RandomForestClassifier\n",
    "import time\n",
    "\n",
    "start = time.time()\n",
    "#---------------\n",
    "\n",
    "# \n",
    "selector = RFE(estimator=RandomForestClassifier(random_state=0, \n",
    "                                                n_estimators=25, \n",
    "                                                max_depth=10), \n",
    "               n_features_to_select=500, \n",
    "               step=0.02)\n",
    "\n",
    "# \n",
    "selector = selector.fit(X_uoi, y_uoi)\n",
    "\n",
    "# \n",
    "features_names_RFERF = X_uoi.columns[selector.support_]\n",
    "\n",
    "#---------------\n",
    "end = time.time()\n",
    "print(end - start)\n",
    "\n",
    "# without step: 1581 sec\n",
    "# with step: 49 sec"
   ]
  },
  {
   "cell_type": "markdown",
   "id": "06338fc9",
   "metadata": {},
   "source": [
    "#### Question\n",
    "\n",
    "On cherche à retirer les variables qui sont les plus mauvais prédicteurs. Quelle influence cela a-t-il sur le choix des paramètres de notre RandomForestClassifier ? En d'autres termes: Que changeriez-vous si vous utilisiez Random Forest pour créer un modèle performant au lieu de l'utiliser pour éliminer les plus mauvaises features ?\n",
    "\n",
    "\n",
    "\n",
    "\n",
    "\n",
    "\n"
   ]
  },
  {
   "cell_type": "markdown",
   "id": "04e5b2f5",
   "metadata": {},
   "source": [
    "*Réponse : En Feature Selection, le but est de trouver l'importance de chaque feature plutôt que d'avoir un modèle vraiment performant. On va donc privilégier un modèle plus simple. Dans notre cas, la Random Forest n'a que 25 estimateurs peu profonds alors qu'en pratique il en faudrait beaucoup plus et plus profonds pour avoir un modèle performant.*"
   ]
  },
  {
   "cell_type": "markdown",
   "id": "919885a4",
   "metadata": {},
   "source": [
    "---\n",
    "### RFE-SVM\n",
    "\n",
    "En vous basant sur le code de RFE-RF ci-dessus, écrivez le code pour une RFE avec cette fois-ci l'estimateur SVM. \n",
    "\n",
    "Utilisez les paramètres suivant:\n",
    "- Pour RFE: \n",
    "    - estimator = SVC\n",
    "    - N_features: 500\n",
    "    - step=0.05\n",
    "\n",
    "\n",
    "- Pour SVC\n",
    "    - Kernel = 'linear'\n",
    "    - C=1\n",
    "    - max_iter=1000\n",
    "\n",
    "Gardez les noms des 500 features choisies dans une variable nommée *features_names_RFESVM*. "
   ]
  },
  {
   "cell_type": "code",
   "execution_count": null,
   "id": "5bee935e",
   "metadata": {},
   "outputs": [],
   "source": [
    "from sklearn.feature_selection import RFE\n",
    "from sklearn.svm import LinearSVC\n",
    "\n",
    "\n",
    "features_names_RFESVM = # COMPLETEZ\n"
   ]
  },
  {
   "cell_type": "markdown",
   "id": "cedefbd9",
   "metadata": {},
   "source": [
    "### Features retenues par les deux méthodes\n",
    "\n",
    "Créez une liste nommée \"**features_names_wrapper**\" avec l'**union** des features retenues. Vous devriez obtenir environ 8-900 features en tout. Affichez vos résultats.\n"
   ]
  },
  {
   "cell_type": "code",
   "execution_count": null,
   "id": "9a817f73",
   "metadata": {},
   "outputs": [],
   "source": [
    "# Union des features de features_names_RFESVM et features_names_RFERF\n",
    "\n",
    "features_names_wrapper = # COMPLETEZ"
   ]
  },
  {
   "cell_type": "markdown",
   "id": "7349168d",
   "metadata": {},
   "source": [
    "### \n"
   ]
  },
  {
   "cell_type": "markdown",
   "id": "f2917d68",
   "metadata": {},
   "source": [
    "### Questions\n",
    "\n",
    "- Pourquoi garder les ~8-900 features issues de l'union et pas uniquement les ~100 de l'intersection ?\n",
    "- Dans un contexte plus réél avec du temps et des ressources en quantité, comment auriez-vous amélioré l'utilisation de RFE pour faire une sélection encore plus pértinente de variables ?\n",
    "\n",
    "\n"
   ]
  },
  {
   "cell_type": "markdown",
   "id": "b8d844a3",
   "metadata": {},
   "source": [
    "----"
   ]
  },
  {
   "cell_type": "markdown",
   "id": "54a3feef",
   "metadata": {},
   "source": [
    "*Réponse:*"
   ]
  },
  {
   "cell_type": "markdown",
   "id": "2af64335",
   "metadata": {},
   "source": [
    "---\n",
    "\n",
    "## Embedded\n",
    "\n",
    "\n",
    "### Préparation des données\n",
    "\n",
    "Exécutez le code ci-dessous.\n",
    "\n",
    "\n"
   ]
  },
  {
   "cell_type": "code",
   "execution_count": null,
   "id": "13da5d27",
   "metadata": {},
   "outputs": [],
   "source": [
    "# Préparation des données: reprendre df_union_intersect et ne prendre que les colonnes qui sont dans features_names_wrapper\n",
    "from sklearn.model_selection import train_test_split\n",
    "\n",
    "\n",
    "X = df_union_intersect.loc[:, df_union_intersect.columns.intersection(features_names_wrapper)]\n",
    "y = df_union_intersect[\"leukemia_class\"].to_list()\n",
    "\n",
    "X_train, X_test, y_train, y_test = train_test_split(X, y, random_state = 0, test_size=0.2) # 80% training and 20% test\n",
    "\n",
    "print(\"-----------\")\n",
    "print(f\"X_train shape: {X_train.shape}\")\n",
    "print(f\"X_test shape: {X_test.shape}\")\n",
    "print(f\"y_train shape: {len(y_train)}\")\n",
    "print(f\"y_test shape: {len(y_test)}\")\n",
    "print(\"-----------\")"
   ]
  },
  {
   "cell_type": "markdown",
   "id": "55c87666",
   "metadata": {},
   "source": [
    "### Random Forest\n",
    "\n",
    "En vous inspirant de l'utilisation faite de Random Forest pour la sélection d'attribut, utilisez [Random Forest](https://scikit-learn.org/stable/modules/generated/sklearn.ensemble.RandomForestClassifier.html) pour créer un classificateur avec les données générées ci-dessus. Vous pouvez lire [cet article de DataCamp](https://www.datacamp.com/tutorial/random-forests-classifier-python) si vous voulez vous raffraichir sur Random Forest. \n",
    "\n",
    "Une fois le classificateur créé, déterminez son accuracy puis générez la liste de l'importance de chaque feature. Jouez brièvement avec les paramètres possibles améliorer l'accuracy. \n",
    "\n",
    "Note: \n",
    "- Le paramètre n_jobs=-1 vous permet de paralléliser le travail sur tous vos coeurs. Avec 8 coeurs le travail prend environ 2 minutes. \n",
    "- Nous voulons tester l'importance de toutes les features, on va donc toutes les tester: utilisez le paramètre \"**max_features=len(X.columns)**\"\n",
    "- Vous pouvez aussi prendre un grand nombre d'estimateurs e.g. \"**n_estimators=400**\"\n",
    "- Suivez le code donné en commentaires\n",
    "- Une fois le modèle entrainé, les \"feature importances\" sont accessibles dans *rf_clf.feature_importances_*\n",
    "- Vous pouvez générer une pandas.Series en donnant les noms de features comme indexes et utiliser la fonction sort_values(ascending=False) pour trier les valeurs."
   ]
  },
  {
   "cell_type": "code",
   "execution_count": null,
   "id": "46f24df5",
   "metadata": {},
   "outputs": [],
   "source": [
    "#Import scikit-learn metrics module for accuracy calculation\n",
    "from sklearn import metrics\n",
    "from sklearn.ensemble import RandomForestClassifier\n",
    "\n",
    "rf_clf = RandomForestClassifier(...) # COMPLETEZ\n",
    "rf_clf.fit(...) # COMPLETEZ\n",
    "\n",
    "y_pred = # COMPLETEZ\n",
    "\n",
    "print(\"Accuracy:\",metrics.accuracy_score(y_test, y_pred))\n",
    "\n",
    "feature_imp_RF = pd.Series(..., index=X.columns).sort_values(ascending=False)"
   ]
  },
  {
   "cell_type": "markdown",
   "id": "7acb629f",
   "metadata": {},
   "source": [
    "#### Questions\n",
    "\n",
    "- L'algorithme Random Forest va construire un ensemble d'arbres de décisions de petite taille contrairement au Decision Tree Classifier qui va construire un arbre de grande taille. Décrivez les paramètres *n_estimators*, *max_depth* et *min_samples_leaf* de RandomForestClassifier. \n",
    "\n",
    "- Décrivez les résultats obtenus. Que représente la \"feature importance\" ?\n",
    "\n",
    "\n"
   ]
  },
  {
   "cell_type": "markdown",
   "id": "1fb51286",
   "metadata": {},
   "source": [
    "### Support Vector Machine - SVC\n",
    "\n",
    "Comme pour Random Forest, nous voulons ici créer un modèle qui nous permet d'avoir l'importance que chaque feature. Nous alons de nouveau utiliser [SVC](https://scikit-learn.org/stable/modules/generated/sklearn.svm.SVC.html). Pour pouvoir obtenir l'importance des features, nous devons utiliser un kernel lineaire. Inspirez-vous du code en commentaires ci-dessous pour créer un classificateur. \n",
    "\n",
    "Une fois le classificateur créé, déterminez son accuracy puis générez la liste de l'importance de chaque feature. Jouez avec les paramètres possibles pour trouver une $accuracy > 93\\%$. \n",
    "\n",
    "Note: \n",
    " \n",
    "- Les importances d'attributs peuvent être obtenus avec *abs(svc_clf.coef_[0])*\n",
    "- Les paramètres par défaut donnent déja de bons résultats\n",
    "- Suppor Vector Machine: SVC = Classificateur, SVR = Régression\n"
   ]
  },
  {
   "cell_type": "code",
   "execution_count": null,
   "id": "c28ec54d",
   "metadata": {},
   "outputs": [],
   "source": [
    "svc_clf = SVC(...) # COMPLETEZ\n",
    "svc_clf.fit(...) # COMPLETEZ\n",
    "\n",
    "y_pred = # COMPLETEZ\n",
    "\n",
    "print(\"Accuracy:\",metrics.accuracy_score(y_test, y_pred))\n",
    "feature_imp_SVC = pd.Series(...).sort_values(ascending=False)"
   ]
  },
  {
   "cell_type": "markdown",
   "id": "eecc38ba",
   "metadata": {},
   "source": [
    "___\n",
    "\n",
    "## Final feature selection\n",
    "\n",
    "Nous avons maintenant nos deux *pandas.Series* contenant les features et leurs importances obtenues avec Random Forest et SVM que nous mettons ci-dessous dans un joli DataFrame appelé features_RF_SVC. Après avoir vérifié que tout est dans le bon sens, ce qui normalement ne devrait pas poser problème, faites ceci:\n",
    "\n",
    "- Pour choisir les features les plus importantes, créez une troisième colonne contenant la **somme des deux autres** puis ordrez par ordre décroissant.\n",
    "\n",
    "- Sélectionnez en suite les N_first (210) features les plus importantes et récupérez la liste des indexes (df.index). \n"
   ]
  },
  {
   "cell_type": "code",
   "execution_count": null,
   "id": "5925d83d",
   "metadata": {},
   "outputs": [],
   "source": [
    "# Crée un DataFrame contenant les importances des features selon chaque méthode\n",
    "\n",
    "features_RF_SVC = pd.DataFrame(columns = ['Features_imp_SVC', 'Features_imp_RF'])\n",
    "features_RF_SVC['Features_imp_SVC'] = feature_imp_SVC\n",
    "features_RF_SVC['Features_imp_RF'] = feature_imp_RF\n",
    "\n",
    "# Vérifiez que les données ont bien été introduites dans le DataFrame selon le bon indexe\n",
    "\n",
    "feature_imp_RF.loc[\"227998_at\"]\n",
    "feature_imp_SVC.loc[\"227998_at\"]\n",
    "features_RF_SVC.loc[\"227998_at\"]"
   ]
  },
  {
   "cell_type": "code",
   "execution_count": null,
   "id": "c6c3faf4",
   "metadata": {},
   "outputs": [],
   "source": [
    "features_RF_SVC[\"nouvelle_colonne\"] = # COMPLETEZ\n",
    "\n",
    "features_RF_SVC.sort_values(...) # COMPLETEZ\n",
    "\n",
    "\n",
    "N_first = 210\n",
    "\n",
    "n_first_idx = list(features_RF_SVC.iloc[:N_first,:].index)\n",
    "\n",
    "print(f\"Total selected features: {len(n_first_idx)}\")\n"
   ]
  },
  {
   "cell_type": "markdown",
   "id": "12ba4323",
   "metadata": {},
   "source": [
    "#### Question\n",
    "\n",
    "Avant d'évaluer la sélection, discutez de la méthode choisies pour garder les 210 premières variables. Quels sont les avantages ou les inconvénients d'utiliser la somme  des \"feature importance\" ? Utiliser le ranking (1er, 2ème, etc) représente-t-il une alternative envisageable ? Pourquoi ?\n"
   ]
  },
  {
   "cell_type": "markdown",
   "id": "4aaba7dc",
   "metadata": {},
   "source": [
    "*Réponse:*"
   ]
  },
  {
   "cell_type": "markdown",
   "id": "a4fcae6f",
   "metadata": {},
   "source": [
    "---"
   ]
  },
  {
   "cell_type": "markdown",
   "id": "68b7e355",
   "metadata": {},
   "source": [
    "Nous construisons en suite nos splits de données pour pouvoir entrainer nos models avec les 210 variables les plus pertinentes."
   ]
  },
  {
   "cell_type": "code",
   "execution_count": null,
   "id": "ca24a51e",
   "metadata": {},
   "outputs": [],
   "source": [
    "# Création des données avec les 210 premières features sélectionnées\n",
    "\n",
    "X_n_first = df_union_intersect.loc[:, n_first_idx]\n",
    "y_n_first = df_union_intersect[\"leukemia_class\"].to_list()"
   ]
  },
  {
   "cell_type": "markdown",
   "id": "9e0f21ff",
   "metadata": {},
   "source": [
    "---\n",
    "Ci-dessous vous trouverez une fonction pour évaluer vos features sélectionnez. \n",
    "\n",
    "### Question : \n",
    "\n",
    "- Décrivez rapidement ce que fait la fonction \n",
    "- Pourquoi utiliser trois classificateurs différents?\n",
    "- Comment rendre la méthode d'évaluation plus robuste ? "
   ]
  },
  {
   "cell_type": "markdown",
   "id": "be9d6d2b",
   "metadata": {},
   "source": [
    "*Réponse* :"
   ]
  },
  {
   "cell_type": "markdown",
   "id": "fbd1232d",
   "metadata": {},
   "source": [
    "---"
   ]
  },
  {
   "cell_type": "code",
   "execution_count": null,
   "id": "beaa21e7",
   "metadata": {},
   "outputs": [],
   "source": [
    "def evaluate_feature_selection(X, y, show=True):\n",
    "\n",
    "    X_train, X_test, y_train, y_test = train_test_split(X, y, test_size=0.2)    \n",
    "    common_labels = np.unique(y_test)\n",
    "    \n",
    "    models = [\n",
    "        LogisticRegression(max_iter=1000),\n",
    "        KNeighborsClassifier(),\n",
    "        DecisionTreeClassifier()\n",
    "    ]\n",
    "    \n",
    "    accuracies = []\n",
    "    combined_cm = None\n",
    "    \n",
    "    for model in models:\n",
    "        model.fit(X_train, y_train)\n",
    "        y_pred = model.predict(X_test)\n",
    "        accuracies.append(accuracy_score(y_test, y_pred))        \n",
    "        cm = confusion_matrix(y_test, y_pred, labels=common_labels)\n",
    "        \n",
    "        # Sum the confusion matrices element-wise.\n",
    "        if combined_cm is None:\n",
    "            combined_cm = cm\n",
    "        else:\n",
    "            combined_cm += cm\n",
    "    \n",
    "    mean_accuracy = np.mean(accuracies)\n",
    "    \n",
    "    if show:\n",
    "        plt.figure(figsize=(6, 5))\n",
    "        sns.heatmap(combined_cm, annot=True, fmt=\"d\", cmap=\"Blues\",\n",
    "                    xticklabels=common_labels, yticklabels=common_labels)\n",
    "        plt.xlabel(\"Predicted\")\n",
    "        plt.ylabel(\"Actual\")\n",
    "        plt.title(\"Combined Confusion Matrix (Sum of all models)\")\n",
    "        plt.show()\n",
    "    \n",
    "    print(f\"\\nMean Accuracy across models: {mean_accuracy:.4f}, with standard deviation: {np.std(accuracies):.4f}\")\n"
   ]
  },
  {
   "cell_type": "code",
   "execution_count": null,
   "id": "bdad1055",
   "metadata": {},
   "outputs": [],
   "source": [
    "# utilisez la fonction pour évaluer la performance de votre sélection de features n_first_idx\n",
    "\n",
    "# COMPLETEZ"
   ]
  },
  {
   "cell_type": "markdown",
   "id": "84d22467",
   "metadata": {},
   "source": [
    "---\n",
    "\n",
    "## Ensemble Feature Selection"
   ]
  },
  {
   "cell_type": "markdown",
   "id": "bc9aad96",
   "metadata": {},
   "source": [
    "Nous avons exploré trois types de méthodes de sélection de features : filter, wrapper et embedded. Nous avons combiné de différentes manières les résultats obtenus par ces méthodes, approchant ainsi ce qu'on appelle l'ensemble feature sélection, c'est-à-dire l'utilisation et la combinaison de plusieurs méthodes de FS, à l'image de l'ensemble learning.\n",
    "\n",
    "Nous vous proposons désormais d'utiliser un paquet Python en cours de développement qui automatise les différentes étapes de l'ensemble feature sélection."
   ]
  },
  {
   "cell_type": "markdown",
   "id": "5978bb42",
   "metadata": {},
   "source": [
    "Nous avons exploré trois types de méthodes de sélection de features : filter, wrapper et embedded. Nous avons combiné leurs résultats de différentes manières, approchant ainsi l’ensemble feature sélection, qui consiste à utiliser et combiner plusieurs méthodes de FS, à l’image de l’ensemble learning.\n",
    "\n",
    "Pour automatiser ces différentes étapes, nous vous proposons d’utiliser un paquet Python en cours de développement.\n",
    "\n",
    "Code disponible sur GitHub : [ensemblefs](https://github.com/arthurbabey/ensemblefs/)  \n",
    "Documentation : [Accéder à la doc](https://arthurbabey.github.io/ensemblefs/)  \n",
    "\n",
    "\n",
    "Installation :\n",
    "```bash\n",
    "pip install git+https://github.com/arthurbabey/ensemblefs.git\n",
    "```\n",
    "\n",
    "Le projet est en cours de développement, si vous observez des bugs ou des améliorations possibles, n’hésitez pas à les signaler !"
   ]
  },
  {
   "cell_type": "markdown",
   "id": "fdbe35bb",
   "metadata": {},
   "source": [
    "Voici une rapide présentation de la méthodologie mise en place lors de la sélection avec ensemble dans ce paquet :\n",
    "\n",
    "1. Utiliser plusieurs sélecteurs pour obtenir des listes de features.  \n",
    "2. Combiner ces listes via une stratégie de fusion (par défaut, l'union des intersections).  \n",
    "3. Répéter la sélection N fois pour créer divers groupes, chaque groupe étant la combinaison de plusieurs listes de features.  \n",
    "4. Calculer des métriques de performance et de stabilité.  \n",
    "5. Employer une méthode de type Pareto pour optimiser la sélection en fonction de la performance et de la stabilité.  \n",
    "6. Comparer les groupes, identifier les meilleurs, et retourner leur liste de features.\n",
    "\n",
    "---"
   ]
  },
  {
   "cell_type": "markdown",
   "id": "c4cba1ec",
   "metadata": {},
   "source": [
    "Comme le processus d'ensemble feature sélection peut être couteux en temps nous allons l'utiliser pour la dernière étape : passer des 879 features sélectionner après la méthode embedded jusqu'à une liste final de 210 features. "
   ]
  },
  {
   "cell_type": "code",
   "execution_count": null,
   "id": "7d8d3fc8",
   "metadata": {},
   "outputs": [],
   "source": [
    "# On récupère les données après l'étape de sélection des features embedded \n",
    "RF_SVC_index = list(features_RF_SVC.index)\n",
    "\n",
    "df_efs = df_union_intersect.loc[:, RF_SVC_index+[\"leukemia_class\"]]\n",
    "df_efs"
   ]
  },
  {
   "cell_type": "markdown",
   "id": "f4741336",
   "metadata": {},
   "source": [
    "Nous allons maintenant créer une instance FeatureSelectionPipeline en définissant chaque attributs. "
   ]
  },
  {
   "cell_type": "code",
   "execution_count": null,
   "id": "b5fa1608",
   "metadata": {},
   "outputs": [],
   "source": [
    "from ensemblefs import FeatureSelectionPipeline\n",
    "\n",
    "data = df_efs.rename(columns={\"leukemia_class\": \"target\"}) # créer une colonne target\n",
    "data[\"target\"] = data[\"target\"].astype(\"category\").cat.codes # convertir la colonne target en catégorique\n",
    "\n",
    "fs_methods = [\"random_forest_selector\", \"svm_selector\", \"lasso_selector\", \"xgboost_selector\"]\n",
    "merging_strategy = \"union_of_intersections_merger\"\n",
    "num_repeats = 5 \n",
    "task = \"classification\" \n",
    "num_features_to_select = 210\n",
    "metrics = [\"logloss\", \"f1_score\"]\n",
    "min_group_size = 2\n",
    "fill = True\n",
    "random_state = 123\n",
    "n_jobs = 5\n",
    "\n",
    "pipeline = FeatureSelectionPipeline(\n",
    "    data=data, # pandas dataset avec la colonne target\n",
    "    fs_methods=fs_methods, # list des méthodes de sélection de features, soit en utlisant le nom de la méthode soit en créant un objet de la classe de la méthode de sélection\n",
    "    merging_strategy=merging_strategy, # stratégie de fusion des features sélectionnées\n",
    "    num_repeats=num_repeats, # nombre de répétitions pour chaque méthode de sélection de features\n",
    "    task=task, # classification ou régression\n",
    "    num_features_to_select=num_features_to_select, # nombre de features à sélectionner\n",
    "    metrics=metrics, # liste des métrique de performance à utiliser pour évaluer les features sélectionnées (minimum 1)\n",
    "    min_group_size=min_group_size, # taille minimale du groupe de features sélectionnées\n",
    "    fill=fill, # combler les features sélectionnées jusqu'à num_features_to_select si la stratégie de fusion ne les atteint pas\n",
    "    random_state=random_state, # random seed\n",
    "    n_jobs=n_jobs # nombre de coeurs à utiliser pour le calcul parallèle\n",
    ")\n",
    "\n",
    "selected_features, _, _ = pipeline.run() "
   ]
  },
  {
   "cell_type": "code",
   "execution_count": null,
   "id": "af064bd6",
   "metadata": {},
   "outputs": [],
   "source": [
    "X, y = df_efs[list(selected_features)], df_efs[\"leukemia_class\"]\n",
    "\n",
    "evaluate_feature_selection(X, y, show=True)"
   ]
  },
  {
   "cell_type": "markdown",
   "id": "d182e490",
   "metadata": {},
   "source": [
    "---\n",
    "Maintenant, essayez de modifier les paramètres pour voir si vous pouvez améliorer les résultats. Vous pouvez ajuster ceux proposés dans la prochaine cellule.\n",
    "\n",
    "Expérimentez avec différents réglages et expliquez vos choix. Inutile de chercher exhaustivement les meilleurs paramètres, car la méthode est coûteuse en temps de calcul.\n",
    "\n",
    "Vous pouvez trouver dans le code ou dans la documentations les différents feature selectors possible ainsi que les metrics possible. "
   ]
  },
  {
   "cell_type": "code",
   "execution_count": null,
   "id": "d0170326",
   "metadata": {},
   "outputs": [],
   "source": [
    "fs_methods = # COMPLETEZ\n",
    "metrics = # COMPLETEZ\n",
    "min_group_size = # COMPLETEZ\n",
    "\n",
    "\n",
    "pipeline = FeatureSelectionPipeline(\n",
    "    data=data,\n",
    "    fs_methods=fs_methods,\n",
    "    merging_strategy=merging_strategy,\n",
    "    num_repeats=num_repeats,\n",
    "    task=task,\n",
    "    num_features_to_select=num_features_to_select,\n",
    "    metrics=metrics,\n",
    "    min_group_size=min_group_size,\n",
    "    fill=fill,\n",
    "    random_state=random_state,\n",
    "    n_jobs=n_jobs\n",
    ")\n",
    "\n",
    "selected_features_2, _ , _ = pipeline.run()"
   ]
  },
  {
   "cell_type": "markdown",
   "id": "fd8f734d",
   "metadata": {},
   "source": [
    "*Justification:*"
   ]
  },
  {
   "cell_type": "markdown",
   "id": "212e52b0",
   "metadata": {},
   "source": [
    "---"
   ]
  },
  {
   "cell_type": "code",
   "execution_count": null,
   "id": "31b57d79",
   "metadata": {},
   "outputs": [],
   "source": [
    "X, y = df_union[list(selected_features_2)], df_union[\"leukemia_class\"]\n",
    "\n",
    "evaluate_feature_selection(X, y, show=True)"
   ]
  },
  {
   "cell_type": "markdown",
   "id": "00832c6c",
   "metadata": {},
   "source": [
    "#### Question\n",
    "\n",
    "- Pourquoi est-il important lors de feature sélection par ensemble d'utiliser des sélecteurs différents? \n",
    "- Qu'est-ce que le paramètre min_group_size et comment influence-t-il la sélection des features ? \n",
    "- Comparez les résultats obtenus lors de l'évaluation de selected_features et selected_features_2"
   ]
  },
  {
   "cell_type": "markdown",
   "id": "731e30ec",
   "metadata": {},
   "source": [
    "*Réponse:*\n"
   ]
  },
  {
   "cell_type": "markdown",
   "id": "3e6f0925",
   "metadata": {},
   "source": [
    "---"
   ]
  },
  {
   "cell_type": "markdown",
   "id": "39a4ee8f",
   "metadata": {},
   "source": [
    "## Visualisation et analyse\n",
    "\n",
    "- Analyser une des matrices de confusion calculée ci-dessus. Quelle erreure de prédiction peut être plus grave que d'autres ? \n",
    "- On vous donne ci-dessous la liste des 210 variables les plus pértinentes obtenues lors d'un projet d'une durée de 3 ans avec beaucoup plus de moyens (temps, ressources, experts médicaux, etc). Comparez cette liste avec les listes obtenues dans ce TP (les 210 obtenus après toute les étapes et les 210 obtenus avec l'ensemble feature selection) et discutez rapidement les résultats. \n",
    "\n",
    "\n"
   ]
  },
  {
   "cell_type": "code",
   "execution_count": null,
   "id": "199cc3a5",
   "metadata": {},
   "outputs": [],
   "source": [
    "# Liste des 210 variables\n",
    "# Comparez avec vos données obtenues\n",
    "import pickle\n",
    "\n",
    "# read pickle \n",
    "with open(\"./data/list_210_features.pickle\", \"rb\") as fp:   #Pickling\n",
    "    b = pickle.load(fp)\n",
    "    \n",
    "print(b)"
   ]
  },
  {
   "cell_type": "markdown",
   "id": "3c3f9eac",
   "metadata": {},
   "source": [
    "*Réponse:*"
   ]
  },
  {
   "cell_type": "markdown",
   "id": "0e143fa4",
   "metadata": {},
   "source": [
    "---"
   ]
  },
  {
   "cell_type": "markdown",
   "id": "60215329",
   "metadata": {},
   "source": [
    "Fin"
   ]
  }
 ],
 "metadata": {
  "kernelspec": {
   "display_name": "data-science",
   "language": "python",
   "name": "python3"
  },
  "language_info": {
   "codemirror_mode": {
    "name": "ipython",
    "version": 3
   },
   "file_extension": ".py",
   "mimetype": "text/x-python",
   "name": "python",
   "nbconvert_exporter": "python",
   "pygments_lexer": "ipython3",
   "version": "3.12.7"
  }
 },
 "nbformat": 4,
 "nbformat_minor": 5
}
